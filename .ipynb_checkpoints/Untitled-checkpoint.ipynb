{
 "cells": [
  {
   "cell_type": "code",
   "execution_count": 2,
   "id": "eb20099d-5aca-412c-858f-33b38e93d2ed",
   "metadata": {},
   "outputs": [],
   "source": [
    "from src.transactions import *\n",
    "from src.utils import *\n",
    "\n",
    "import pandas as pd"
   ]
  },
  {
   "cell_type": "code",
   "execution_count": 5,
   "id": "28ff9068-8d2d-4e02-acc8-3838a8658b9a",
   "metadata": {},
   "outputs": [
    {
     "name": "stdout",
     "output_type": "stream",
     "text": [
      "all_transfers.csv  internal_transactions.csv  token_transfers.csv\n",
      "contracts.csv\t   normal_transactions.csv\n"
     ]
    }
   ],
   "source": [
    "!ls output_files/"
   ]
  },
  {
   "cell_type": "code",
   "execution_count": 3,
   "id": "44a9c349-cf70-4de2-b9c8-e7a4aa0ee630",
   "metadata": {},
   "outputs": [],
   "source": [
    "transfers = pd.read_csv(\"output_files/all_transfers.csv\")\n",
    "internal_txs = pd.read_csv(\"output_files/internal_transac"
   ]
  }
 ],
 "metadata": {
  "kernelspec": {
   "display_name": "Python 3 (ipykernel)",
   "language": "python",
   "name": "python3"
  },
  "language_info": {
   "codemirror_mode": {
    "name": "ipython",
    "version": 3
   },
   "file_extension": ".py",
   "mimetype": "text/x-python",
   "name": "python",
   "nbconvert_exporter": "python",
   "pygments_lexer": "ipython3",
   "version": "3.10.6"
  }
 },
 "nbformat": 4,
 "nbformat_minor": 5
}
