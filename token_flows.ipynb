{
 "cells": [
  {
   "cell_type": "markdown",
   "id": "af414528-e099-4458-be1e-e236863b96db",
   "metadata": {},
   "source": [
    "# Token Flows\n",
    "\n",
    "The idea of this notebook is to test some functionality for determining transaction classification\n",
    "\n",
    "We want to classify a transaction into one of several categories (and more):\n",
    "\n",
    "- trade\n",
    "- add / remove liquidity\n",
    "- lend / borrow / withdraw / repay\n",
    "- claim rewards / other income\n",
    "- simple transfer (internal or external)\n",
    "- others\n",
    "\n",
    "Determining transaction type informs tax status for a given transaction. \n",
    "\n",
    "Knowing the number of tokens going in and out from a wallet in a given transaction is useful information for making this classification.\n",
    "\n",
    "For example: \n",
    "\n",
    "Typically adding deposit to an LP involves a move of 3 tokens: 2 tokens out (into the pool) and one token in (the LP token).\n",
    "A 1-to-1 token in-out might indicate a trade / swap.\n",
    "A 1 for 0 out might indicate a bridge transfer, a OTC trade, or a loan repayment (ignoring debt tokens for now)\n",
    "\n",
    "While this approach is naive if taken without review, it is useful for filtering and viewing transactions.\n",
    "\n",
    "This notebook includes some functions for making this process easy, building off of previous work elsewhere in this project, and then includes some code for additional filtering exercises on transaction data."
   ]
  },
  {
   "cell_type": "code",
   "execution_count": 1,
   "id": "15b99c38-b6cc-4323-b784-6faa65cb6a38",
   "metadata": {},
   "outputs": [],
   "source": [
    "from src.transactions import *\n",
    "from src.utils import *\n",
    "\n",
    "import pandas as pd"
   ]
  },
  {
   "cell_type": "code",
   "execution_count": 2,
   "id": "9b2c2aa2-661e-43b4-b7e2-2fc391b651b5",
   "metadata": {},
   "outputs": [],
   "source": [
    "# make transfers into a dictionary from a pandas dataframe\n",
    "# structure is {hash: [array of transfers]}\n",
    "def make_transfer_dict(_transfers=all_transfers) -> dict:\n",
    "    transfers_dict = {}\n",
    "    \n",
    "    for _, transfer in _transfers.iterrows():\n",
    "        # first time this hash has been seen\n",
    "        if transfer.hash not in transfers_dict:\n",
    "            transfers_dict[transfer.hash] = [transfer]\n",
    "        # else concat the transfer to the existing value\n",
    "        else:\n",
    "            transfers_dict[transfer.hash] += [transfer]\n",
    "    \n",
    "    return transfers_dict\n",
    "\n",
    "\n",
    "# count the number of token inflows for a given transactions\n",
    "def count_inflows(_transfers, _wallets=WALLET_LIST) -> int:\n",
    "    n_inflows = 0\n",
    "    tokens_seen = []\n",
    "    \n",
    "    for transfer in _transfers:\n",
    "        if transfer.transferTo in _wallets and transfer.tokenSymbol not in tokens_seen:\n",
    "            n_inflows += 1\n",
    "            tokens_seen += [transfer.tokenSymbol]\n",
    "            \n",
    "    return n_inflows\n",
    "\n",
    "\n",
    "# count number of token outflows for a given transaction\n",
    "def count_outflows(_transfers, _wallets=WALLET_LIST) -> int:\n",
    "    n_outflows = 0\n",
    "    tokens_seen = []\n",
    "    \n",
    "    for transfer in _transfers:\n",
    "        if transfer.transferFrom in _wallets and transfer.tokenSymbol not in tokens_seen:\n",
    "            n_outflows += 1\n",
    "            tokens_seen += [transfer.tokenSymbol]\n",
    "            \n",
    "    return n_outflows\n",
    "\n",
    "\n",
    "def get_m_for_n_trades(n_out=1, n_in=1, _transfers=all_transfers, _wallets=WALLET_LIST) -> dict:\n",
    "    # a dictionary structure makes it much easier to traverse all hashes\n",
    "    transfers_dict = make_transfer_dict(_transfers)\n",
    "    hashes = []\n",
    "    nton_transfers = []\n",
    "    \n",
    "    for hash_, transfers in transfers_dict.items():\n",
    "        # make sure n_in flows are in and n_out flows are out\n",
    "        if not count_inflows(transfers, _wallets) == n_in or not count_outflows(transfers, _wallets) == n_out:\n",
    "            continue\n",
    "            \n",
    "        hashes += [hash_]\n",
    "        \n",
    "    # return dictionary items for these hashes\n",
    "    return {hash_:transfers_dict[hash_] for hash_ in hashes} \n"
   ]
  },
  {
   "cell_type": "code",
   "execution_count": 3,
   "id": "366b1fdd-7c73-4882-a9d2-4b8f79cf921d",
   "metadata": {},
   "outputs": [],
   "source": [
    "one_for_one = get_m_for_n_trades(1, 1, all_transfers, WALLET_LIST)\n",
    "two_for_one = get_m_for_n_trades(2, 1, all_transfers, WALLET_LIST)\n",
    "\n",
    "\n",
    "# some tests for one_for_one\n",
    "for value in one_for_one.values():\n",
    "    assert count_outflows(value) == 1\n",
    "    assert count_inflows(value) == 1\n",
    "    \n",
    "assert len(set(one_for_one)) == len(one_for_one)\n",
    "\n",
    "# some tests for two_for_one\n",
    "for value in two_for_one.values():\n",
    "    assert count_outflows(value) == 2\n",
    "    assert count_inflows(value) == 1\n",
    "    \n",
    "assert len(set(two_for_one)) == len(two_for_one)"
   ]
  },
  {
   "cell_type": "code",
   "execution_count": 4,
   "id": "49526ffe-9c68-4625-a77c-d334115f153a",
   "metadata": {},
   "outputs": [],
   "source": [
    "potential_trades = get_m_for_n_trades(1, 1)\n",
    "potential_liquidity_adds = get_m_for_n_trades(2, 1)\n",
    "potential_liquidity_withdraws = get_m_for_n_trades(1, 2)"
   ]
  },
  {
   "cell_type": "code",
   "execution_count": 5,
   "id": "620dc2a3-afb2-446a-8f6f-566592877929",
   "metadata": {},
   "outputs": [
    {
     "name": "stdout",
     "output_type": "stream",
     "text": [
      "0\n"
     ]
    }
   ],
   "source": [
    "six_one = get_m_for_n_trades(6,1)\n",
    "print(len(six_one))"
   ]
  },
  {
   "cell_type": "code",
   "execution_count": 6,
   "id": "af266dcd-ef37-4aff-9aa1-f0d2a7881ddd",
   "metadata": {},
   "outputs": [
    {
     "name": "stdout",
     "output_type": "stream",
     "text": [
      "0\n",
      "1\n",
      "2\n",
      "3\n",
      "4\n",
      "5\n",
      "6\n",
      "7\n",
      "8\n",
      "9\n"
     ]
    }
   ],
   "source": [
    "# get all trades of m for n tokens from m, n: 0..9\n",
    "trade_sizes = {}\n",
    "for i in range(10):\n",
    "    trade_sizes[i] = {}\n",
    "    print(i)\n",
    "    for j in range(10):\n",
    "        trade_sizes[i][j] = get_m_for_n_trades(i, j)"
   ]
  },
  {
   "cell_type": "code",
   "execution_count": 7,
   "id": "50c5b895-ed20-49ab-a62a-8ab3afb8ea3e",
   "metadata": {},
   "outputs": [
    {
     "name": "stdout",
     "output_type": "stream",
     "text": [
      "0, 1: 1628\n",
      "0, 2: 503\n",
      "0, 3: 106\n",
      "0, 4: 9\n",
      "0, 5: 11\n",
      "0, 6: 18\n",
      "0, 7: 8\n",
      "1, 0: 625\n",
      "1, 1: 2585\n",
      "1, 2: 119\n",
      "1, 3: 15\n",
      "1, 4: 1\n",
      "1, 5: 1\n",
      "2, 0: 53\n",
      "2, 1: 131\n",
      "2, 2: 18\n",
      "2, 3: 2\n",
      "3, 1: 27\n",
      "3, 3: 34\n",
      "3, 4: 1\n",
      "3, 6: 1\n",
      "4, 1: 2\n",
      "4, 4: 5\n",
      "4, 5: 7\n",
      "4, 7: 28\n",
      "5, 1: 3\n",
      "5, 6: 1\n",
      "5, 7: 29\n",
      "6, 7: 60\n",
      "7, 1: 1\n"
     ]
    }
   ],
   "source": [
    "total = 0\n",
    "for i in range(10):\n",
    "    for j in range(10):\n",
    "        n = len(trade_sizes[i][j])\n",
    "        total += n\n",
    "        if n != 0:\n",
    "            print(f\"{i}, {j}: {n}\")"
   ]
  },
  {
   "cell_type": "code",
   "execution_count": 8,
   "id": "203bd03f-d56f-451e-8afa-481b2418ac5a",
   "metadata": {},
   "outputs": [
    {
     "name": "stdout",
     "output_type": "stream",
     "text": [
      "6032\n",
      "6035\n"
     ]
    },
    {
     "data": {
      "text/plain": [
       "6035"
      ]
     },
     "execution_count": 8,
     "metadata": {},
     "output_type": "execute_result"
    }
   ],
   "source": [
    "transfers_dict = make_transfer_dict(all_transfers)\n",
    "print(total) # number of transactions with token sizes < 10\n",
    "print(len(transfers_dict)) # total number of transactions\n",
    "\n",
    "len(all_transfers.hash.unique()) # confirming unique hashes is same as size of transfers dictionary"
   ]
  },
  {
   "cell_type": "code",
   "execution_count": 16,
   "id": "e40fe06c-77e2-4fce-a61a-0d894bbdc903",
   "metadata": {},
   "outputs": [
    {
     "name": "stdout",
     "output_type": "stream",
     "text": [
      "3\n"
     ]
    }
   ],
   "source": [
    "hashes = []\n",
    "for i in range(10):\n",
    "    for j in range(10):\n",
    "        hashes += list(trade_sizes[i][j].keys())\n",
    "        \n",
    "count = 0 \n",
    "for hash in all_transfers.hash.unique().tolist():\n",
    "    if hash not in hashes:\n",
    "        # found the three other transfers - all votium.app claims\n",
    "        count += 1\n",
    "\n",
    "print(count)"
   ]
  },
  {
   "cell_type": "code",
   "execution_count": 10,
   "id": "196afa9a-3599-4e02-bab8-57c626a3ce0a",
   "metadata": {
    "tags": []
   },
   "outputs": [],
   "source": [
    "# find approve transactions\n",
    "normal_transactions['action'] = [str(name).split('(')[0] for name in normal_transactions.functionName]\n",
    "\n",
    "h = normal_transactions[normal_transactions.action == 'approve'].hash.iloc[0]"
   ]
  },
  {
   "cell_type": "code",
   "execution_count": 13,
   "id": "bb02fb32-ff88-4410-b5c8-80ad5390c597",
   "metadata": {},
   "outputs": [],
   "source": [
    "# calc gas fees\n",
    "normal_transactions['txFee'] = normal_transactions.gasPrice * normal_transactions.gasUsed / 10 ** 18\n",
    "\n",
    "# sort transactions by whether or not they are from us\n",
    "not_from_us = normal_transactions[~normal_transactions['from'].isin(WALLET_LIST)]\n",
    "from_us = normal_transactions[normal_transactions['from'].isin(WALLET_LIST)]"
   ]
  },
  {
   "cell_type": "code",
   "execution_count": 14,
   "id": "4915c105-6a50-4de2-b40d-9d8a5c0c3bae",
   "metadata": {},
   "outputs": [
    {
     "name": "stdout",
     "output_type": "stream",
     "text": [
      "Gas Paid by Chain\n",
      "mainnet:   28.271913866070676 ETH\n",
      "polygon:   9.319300786971601 MATIC\n",
      "avalanche: 7.785314829772161 AVAX\n",
      "arbitrum:  0.24491394756031495 ETH\n",
      "fantom:  147.08534929542944 FTM\n",
      "binance:  0.000315 BNB\n"
     ]
    }
   ],
   "source": [
    "# total gas paid on mainnet by our wallets\n",
    "print(\"Gas Paid by Chain\")\n",
    "print(f\"mainnet:   {sum(from_us[from_us.chain == 'mainnet'].txFee)} ETH\")\n",
    "print(f\"polygon:   {sum(from_us[from_us.chain == 'polygon'].txFee)} MATIC\")\n",
    "print(f\"avalanche: {sum(from_us[from_us.chain == 'avalanche'].txFee)} AVAX\")\n",
    "print(f\"arbitrum:  {sum(from_us[from_us.chain == 'arbitrum'].txFee)} ETH\")\n",
    "print(f\"fantom:  {sum(from_us[from_us.chain == 'fantom'].txFee)} FTM\")\n",
    "print(f\"binance:  {sum(from_us[from_us.chain == 'binance'].txFee)} BNB\")"
   ]
  },
  {
   "cell_type": "code",
   "execution_count": null,
   "id": "edb78873",
   "metadata": {},
   "outputs": [],
   "source": []
  }
 ],
 "metadata": {
  "kernelspec": {
   "display_name": "Python 3.10.4 ('lukka')",
   "language": "python",
   "name": "python3"
  },
  "language_info": {
   "codemirror_mode": {
    "name": "ipython",
    "version": 3
   },
   "file_extension": ".py",
   "mimetype": "text/x-python",
   "name": "python",
   "nbconvert_exporter": "python",
   "pygments_lexer": "ipython3",
   "version": "3.10.4"
  },
  "vscode": {
   "interpreter": {
    "hash": "135cf8a5a835e8f52f4c67599d4fe516531df88f5dff9d0470cf36099ea8b288"
   }
  }
 },
 "nbformat": 4,
 "nbformat_minor": 5
}
