{
 "cells": [
  {
   "cell_type": "code",
   "execution_count": 15,
   "id": "eb20099d-5aca-412c-858f-33b38e93d2ed",
   "metadata": {},
   "outputs": [],
   "source": [
    "from src.transactions import *\n",
    "from src.utils import *\n",
    "\n",
    "import pandas as pd\n",
    "\n",
    "# pandas options\n",
    "pd.set_option(\"display.expand_frame_repr\", False)"
   ]
  },
  {
   "cell_type": "code",
   "execution_count": 16,
   "id": "28ff9068-8d2d-4e02-acc8-3838a8658b9a",
   "metadata": {},
   "outputs": [
    {
     "name": "stdout",
     "output_type": "stream",
     "text": [
      "all_transfers.csv  internal_transactions.csv  token_transfers.csv\n",
      "contracts.csv\t   normal_transactions.csv\n"
     ]
    }
   ],
   "source": [
    "!ls output_files/"
   ]
  },
  {
   "cell_type": "code",
   "execution_count": 17,
   "id": "44a9c349-cf70-4de2-b9c8-e7a4aa0ee630",
   "metadata": {},
   "outputs": [],
   "source": [
    "transfers = pd.read_csv(\"output_files/all_transfers.csv\")\n",
    "internal_txs = pd.read_csv(\"output_files/internal_transactions.csv\")\n",
    "normal_txs = pd.read_csv(\"output_files/normal_transactions.csv\")\n",
    "token_transfers = pd.read_csv(\"output_files/token_transfers.csv\")"
   ]
  },
  {
   "cell_type": "code",
   "execution_count": 19,
   "id": "d077f2b6-9608-4fff-91fb-4245691fcdd1",
   "metadata": {},
   "outputs": [
    {
     "name": "stdout",
     "output_type": "stream",
     "text": [
      "       blockNumber   timeStamp                                               hash  nonce                                          blockHash                                transferFrom                                        from                             contractAddress                                  transferTo                                          to  ... txreceipt_status                                              input    methodId                                       functionName                                      wallet    wallet_name    chain             datetime  amount_fixed               action\n",
      "0         14830103  1653316106  0xb7fb24ae8693d618f6e94066530fe6a23451bb5c29a9...    0.0  0x73ceab89846ca60268871ddb59329f52a42cc2230a66...  0x74de5d4fcbf63e00296fd95d33236b9794016631  0x64f69e7008acc9036cf87adffe4bd5116f44dd2d  0x7d1afa7b718fb893db30a3abc0cfc608aacfebb0  0x64f69e7008acc9036cf87adffe4bd5116f44dd2d  0x881d40237659c251811cec9c364ef91dc08d300c  ...              1.0  0x5f575529000000000000000000000000000000000000...  0x5f575529  swap(string aggregatorId, address tokenFrom, u...  0x64f69e7008acc9036cf87adffe4bd5116f44dd2d          CE_MM  mainnet  2022-05-23 10:28:26    296.641310                 swap\n",
      "1         14830132  1653316435  0x8b72662fa9079fc16337069640ce41210292822e42bd...    2.0  0x51554289d81c33d99a242d1ebc3b8263262f3a12dd5e...  0x64f69e7008acc9036cf87adffe4bd5116f44dd2d  0x64f69e7008acc9036cf87adffe4bd5116f44dd2d  0xc02aaa39b223fe8d0a0e5c4f27ead9083c756cc2  0xe78388b4ce79068e89bf8aa7f218ef6b9ab0e9d0  0xc02aaa39b223fe8d0a0e5c4f27ead9083c756cc2  ...              1.0  0xa9059cbb000000000000000000000000e78388b4ce79...  0xa9059cbb              transfer(address _to, uint256 _value)  0x64f69e7008acc9036cf87adffe4bd5116f44dd2d          CE_MM  mainnet  2022-05-23 10:33:55      0.050000             transfer\n",
      "2         14830811  1653325984  0x9731afb9c15f8f10489d2a8f2f2c8da09fef0fe344bd...    6.0  0x6362d21168b2948236a5cb8602a871c4f284ad8e8a65...  0x64f69e7008acc9036cf87adffe4bd5116f44dd2d  0x64f69e7008acc9036cf87adffe4bd5116f44dd2d  0x7d1afa7b718fb893db30a3abc0cfc608aacfebb0  0x401f6c983ea34274ec46f84d70b31c151321188b  0x401f6c983ea34274ec46f84d70b31c151321188b  ...              1.0  0x8b9e4f930000000000000000000000007d1afa7b718f...  0x8b9e4f93  depositERC20ForUser(address _token, address _u...  0x64f69e7008acc9036cf87adffe4bd5116f44dd2d          CE_MM  mainnet  2022-05-23 13:13:04    296.641310  depositERC20ForUser\n",
      "3         14842672  1653493013  0x61212b8cc09e4bd27f365a9408f0f76c87fffd6d0d3a...    7.0  0xaa2020ad491acb1e3d7a5ea99d1999e752858077e0ec...  0xce84867c3c02b05dc570d0135103d3fb9cc19433  0x64f69e7008acc9036cf87adffe4bd5116f44dd2d  0x6b3595068778dd592e39a122f4f5a5cf09c90fe2  0x64f69e7008acc9036cf87adffe4bd5116f44dd2d  0x68b3465833fb72a70ecdf485e0e4c7bd8665fc45  ...              1.0  0x5ae401dc000000000000000000000000000000000000...  0x5ae401dc          multicall(uint256 deadline, bytes[] data)  0x64f69e7008acc9036cf87adffe4bd5116f44dd2d          CE_MM  mainnet  2022-05-25 11:36:53     57.968859            multicall\n",
      "4         14842689  1653493257  0x711aef74cbe5a3d8115824de4bb2e9bb029776029293...   11.0  0x5c19676c255e1d279ec821ed16625888374e214b9296...  0x0000000000000000000000000000000000000000  0x64f69e7008acc9036cf87adffe4bd5116f44dd2d  0x8798249c2e607446efb7ad49ec89dd1865ff4272  0x64f69e7008acc9036cf87adffe4bd5116f44dd2d  0x8798249c2e607446efb7ad49ec89dd1865ff4272  ...              1.0  0xa59f3e0c000000000000000000000000000000000000...  0xa59f3e0c                            enter(uint256 userSeed)  0x64f69e7008acc9036cf87adffe4bd5116f44dd2d          CE_MM  mainnet  2022-05-25 11:40:57     44.448714                enter\n",
      "...            ...         ...                                                ...    ...                                                ...                                         ...                                         ...                                         ...                                         ...                                         ...  ...              ...                                                ...         ...                                                ...                                         ...            ...      ...                  ...           ...                  ...\n",
      "13349     13902813  1640815133  0xddfb4d37b18012fe17360142287ec74ac51c209fe51c...    NaN                                                NaN  0xdef1c0ded9bec7f1a1670819833240f027b25eff  0xb9d6c07ab9eb9c12321cb6ff3d8c733ad20ab41f                                         NaN  0xb9d6c07ab9eb9c12321cb6ff3d8c733ad20ab41f  0xdef1c0ded9bec7f1a1670819833240f027b25eff  ...              1.0  0xd9627aa4000000000000000000000000000000000000...  0xd9627aa4  sellToUniswap(address[] tokens, uint256 sellAm...  0xb9d6c07ab9eb9c12321cb6ff3d8c733ad20ab41f  FB_FP_FIDELIS  mainnet  2021-12-29 16:58:53      0.418523        sellToUniswap\n",
      "13350     14577837  1649862876  0x081a301a2a0385118c467f06894ba4c356778291e086...    NaN                                                NaN  0x9008d19f58aabd9ed0d60971565aa8510560ab41                                         NaN                                         NaN  0xb9d6c07ab9eb9c12321cb6ff3d8c733ad20ab41f                                         NaN  ...              NaN                                                NaN         NaN                                                NaN  0xb9d6c07ab9eb9c12321cb6ff3d8c733ad20ab41f  FB_FP_FIDELIS  mainnet  2022-04-13 11:14:36      0.129050                  NaN\n",
      "13351     13722390  1638380083  0x05cce1a06408a813463a40dec40c4aef53631eaa3295...    NaN                                                NaN  0xba12222222228d8ba445958a75a0704d566bf2c8  0xbfe331d2bd05976da974a9f565c0759ae17539cc                                         NaN  0xbfe331d2bd05976da974a9f565c0759ae17539cc  0xba12222222228d8ba445958a75a0704d566bf2c8  ...              1.0  0x945bcec9000000000000000000000000000000000000...  0x945bcec9  batchSwap(uint8 kind, tuple[] swaps, address[]...  0xbfe331d2bd05976da974a9f565c0759ae17539cc  FP_TD_GUILDFI  mainnet  2021-12-01 12:34:43      0.226287            batchSwap\n",
      "13352     12213875  1618080387  0x4362a613e89d5a9b08e889df29bfcc9806b2ed4f08e3...    NaN                                                NaN  0xe02b757681752b8b3001cb43c235731ad6b25657  0xf4906afac2ae82e1724d4d491c8b15a6a6fc4114                                         NaN  0xcaf1a0e288965a7a64303a49d2a10e22414fa264  0xe02b757681752b8b3001cb43c235731ad6b25657  ...              1.0  0x6a761202000000000000000000000000caf1a0e28896...  0x6a761202  execTransaction(address to, uint256 value, byt...  0xe02b757681752b8b3001cb43c235731ad6b25657      RP_GNOSIS  mainnet  2021-04-10 14:46:27      0.001000      execTransaction\n",
      "13353     13239067  1631826062  0xa3c49332f1957f3c817b1f34b35a152a6e1173f1927d...    NaN                                                NaN  0xe02b757681752b8b3001cb43c235731ad6b25657  0xcaf1a0e288965a7a64303a49d2a10e22414fa264                                         NaN  0x376b2e488a5615366e182b933944b1323643817a  0xe02b757681752b8b3001cb43c235731ad6b25657  ...              1.0  0x6a761202000000000000000000000000376b2e488a56...  0x6a761202  execTransaction(address to, uint256 value, byt...  0xe02b757681752b8b3001cb43c235731ad6b25657      RP_GNOSIS  mainnet  2021-09-16 17:01:02      0.100000      execTransaction\n",
      "\n",
      "[13354 rows x 33 columns]\n"
     ]
    }
   ],
   "source": [
    "transfers"
   ]
  },
  {
   "cell_type": "code",
   "execution_count": null,
   "id": "cd7a70dd-b0dc-49fc-96b5-b417c13cd63a",
   "metadata": {},
   "outputs": [],
   "source": []
  }
 ],
 "metadata": {
  "kernelspec": {
   "display_name": "Python 3 (ipykernel)",
   "language": "python",
   "name": "python3"
  },
  "language_info": {
   "codemirror_mode": {
    "name": "ipython",
    "version": 3
   },
   "file_extension": ".py",
   "mimetype": "text/x-python",
   "name": "python",
   "nbconvert_exporter": "python",
   "pygments_lexer": "ipython3",
   "version": "3.10.6"
  }
 },
 "nbformat": 4,
 "nbformat_minor": 5
}
